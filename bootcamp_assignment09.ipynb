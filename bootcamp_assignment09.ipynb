{
 "cells": [
  {
   "cell_type": "markdown",
   "id": "76baeb7c",
   "metadata": {},
   "source": [
    "# Q1. To what does a relative path refer?"
   ]
  },
  {
   "cell_type": "markdown",
   "id": "53e874b4",
   "metadata": {},
   "source": [
    "Ans: Relative paths are relative to the current working directory."
   ]
  },
  {
   "cell_type": "markdown",
   "id": "c0d91f96",
   "metadata": {},
   "source": [
    "# Q2. What does an absolute path start with your operating system?"
   ]
  },
  {
   "cell_type": "markdown",
   "id": "95f6a932",
   "metadata": {},
   "source": [
    "Ans: Absolute paths start with the root folder, such as / or C:."
   ]
  },
  {
   "cell_type": "markdown",
   "id": "d9a282a2",
   "metadata": {},
   "source": [
    "# Q3. What do the functions os.getcwd() and os.chdir() do?"
   ]
  },
  {
   "cell_type": "markdown",
   "id": "fc382e57",
   "metadata": {},
   "source": [
    "Ans: The os.getcwd() function returns the current working directory. The os.chdir() function changes the current working directory."
   ]
  },
  {
   "cell_type": "markdown",
   "id": "21a0faec",
   "metadata": {},
   "source": [
    "# Q4. What are the . and .. folders?"
   ]
  },
  {
   "cell_type": "markdown",
   "id": "ea6d652c",
   "metadata": {},
   "source": [
    "Ans: The . folder is the current folder, and .. is the parent folder."
   ]
  },
  {
   "cell_type": "markdown",
   "id": "38ea51ef",
   "metadata": {},
   "source": [
    "# Q5. In C:\\bacon\\eggs\\spam.txt, which part is the dir name, and which part is the base name?"
   ]
  },
  {
   "cell_type": "markdown",
   "id": "567094b2",
   "metadata": {},
   "source": [
    "Ans: C:\\bacon\\eggs is the dir name, while spam.txt is the base name."
   ]
  },
  {
   "cell_type": "markdown",
   "id": "48681a4e",
   "metadata": {},
   "source": [
    "# Q6. What are the three “mode” arguments that can be passed to the open() function?"
   ]
  },
  {
   "cell_type": "markdown",
   "id": "a39c9f2d",
   "metadata": {},
   "source": [
    "Ans: The string 'r' for read mode, 'w' for write mode, and 'a' for append mode."
   ]
  },
  {
   "cell_type": "markdown",
   "id": "3dcd56f3",
   "metadata": {},
   "source": [
    "# Q7. What happens if an existing file is opened in write mode?"
   ]
  },
  {
   "cell_type": "markdown",
   "id": "44345ce1",
   "metadata": {},
   "source": [
    "Ans: An existing file opened in write mode is erased and completely overwritten."
   ]
  },
  {
   "cell_type": "markdown",
   "id": "bcb50710",
   "metadata": {},
   "source": [
    "# Q8. How do you tell the difference between read() and readlines()?"
   ]
  },
  {
   "cell_type": "markdown",
   "id": "e1e7068a",
   "metadata": {},
   "source": [
    "The read() method returns the file’s entire contents as a single string value. The readlines() method returns a list of strings, where each string is a line from the file’s contents."
   ]
  },
  {
   "cell_type": "markdown",
   "id": "d0881545",
   "metadata": {},
   "source": [
    "# Q9. What data structure does a shelf value resemble?"
   ]
  },
  {
   "cell_type": "markdown",
   "id": "5e1fe5d7",
   "metadata": {},
   "source": [
    "A shelf value resembles a dictionary value; it has keys and values, along with keys() and values() methods that work similarly to the dictionary methods of the same names."
   ]
  }
 ],
 "metadata": {
  "kernelspec": {
   "display_name": "Python 3 (ipykernel)",
   "language": "python",
   "name": "python3"
  },
  "language_info": {
   "codemirror_mode": {
    "name": "ipython",
    "version": 3
   },
   "file_extension": ".py",
   "mimetype": "text/x-python",
   "name": "python",
   "nbconvert_exporter": "python",
   "pygments_lexer": "ipython3",
   "version": "3.9.12"
  }
 },
 "nbformat": 4,
 "nbformat_minor": 5
}
